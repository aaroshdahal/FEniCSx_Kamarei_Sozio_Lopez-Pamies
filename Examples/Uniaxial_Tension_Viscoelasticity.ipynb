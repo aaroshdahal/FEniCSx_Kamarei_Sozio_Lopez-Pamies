{
  "nbformat": 4,
  "nbformat_minor": 0,
  "metadata": {
    "colab": {
      "provenance": []
    },
    "kernelspec": {
      "name": "python3",
      "display_name": "Python 3"
    },
    "language_info": {
      "name": "python"
    }
  },
  "cells": [
    {
      "cell_type": "markdown",
      "source": [
        "## Adding the Dolfinx library to the colab environment"
      ],
      "metadata": {
        "id": "8nZOwNbswC81"
      }
    },
    {
      "cell_type": "code",
      "execution_count": null,
      "metadata": {
        "id": "R5-6CbHERaYQ"
      },
      "outputs": [],
      "source": [
        "!wget \"https://fem-on-colab.github.io/releases/fenicsx-install-real.sh\" -O \"/tmp/fenicsx-install.sh\" && bash \"/tmp/fenicsx-install.sh\""
      ]
    },
    {
      "cell_type": "markdown",
      "source": [
        "## Importing the required libraries"
      ],
      "metadata": {
        "id": "0IFmOKwrwG3i"
      }
    },
    {
      "cell_type": "code",
      "source": [
        "from mpi4py import MPI\n",
        "from dolfinx import mesh, fem, io, plot, nls, log, geometry, la\n",
        "import basix.ufl\n",
        "import dolfinx.fem.petsc\n",
        "import ufl\n",
        "import numpy as np\n",
        "from petsc4py.PETSc import ScalarType\n",
        "from petsc4py import PETSc\n",
        "from time import time\n",
        "import os"
      ],
      "metadata": {
        "id": "dnNdHHJ2STPp"
      },
      "execution_count": null,
      "outputs": []
    },
    {
      "cell_type": "markdown",
      "source": [
        "## Setting material properties"
      ],
      "metadata": {
        "id": "2S-JVfg0wJY3"
      }
    },
    {
      "cell_type": "code",
      "source": [
        "log.set_log_level(log.LogLevel.WARNING)\n",
        "comm = MPI.COMM_WORLD\n",
        "rank = comm.Get_rank()\n",
        "size = comm.Get_size()\n",
        "\n",
        "kap_by_mu = ScalarType(10.**3)\n",
        "\n",
        "\n",
        "# Material Properties\n",
        "mu1 = ScalarType(0.09)\n",
        "mu2 = ScalarType(0.01)\n",
        "mu_pr = ScalarType(kap_by_mu*(mu1 + mu2))\n",
        "alph1 = ScalarType(1)\n",
        "alph2 = ScalarType(1)\n",
        "m1 = ScalarType(0.45)\n",
        "m2 = ScalarType(0.05)\n",
        "a1 = ScalarType(1)\n",
        "a2 = ScalarType(1)\n",
        "K1 = ScalarType(0)\n",
        "K2 = ScalarType(0)\n",
        "bta1 = ScalarType(1)\n",
        "bta2 = ScalarType(1)\n",
        "eta0 = ScalarType(0.5)\n",
        "etaInf = ScalarType(0.0)\n",
        "N0 = ScalarType(0.5)"
      ],
      "metadata": {
        "id": "UV7Xl3X7SaQW"
      },
      "execution_count": null,
      "outputs": []
    },
    {
      "cell_type": "markdown",
      "source": [
        "## Generating the mesh with element size $h$"
      ],
      "metadata": {
        "id": "WH3t-ro4wL-O"
      }
    },
    {
      "cell_type": "code",
      "source": [
        "W, L = 4.0, 7.5                                                                   #making use of symmetry\n",
        "g = 0.5\n",
        "\n",
        "\n",
        "h = 0.05\n",
        "domain = mesh.create_box(comm = comm,points=\n",
        "                             [np.array([0,0,0]), np.array([W,L,g])],n=[int(W/(8*h))\n",
        "                             ,int(L/(8*h)),int(g/(8*h))+1], cell_type=mesh.CellType.tetrahedron\n",
        "                               , ghost_mode=mesh.GhostMode.shared_facet)\n",
        "\n",
        "xdmf = dolfinx.io.XDMFFile(domain.comm, \"mesh.xdmf\", \"w\")\n",
        "xdmf.write_mesh(domain)\n",
        "xdmf.close()"
      ],
      "metadata": {
        "id": "4ulIC46CS1Ml"
      },
      "execution_count": null,
      "outputs": []
    },
    {
      "cell_type": "markdown",
      "source": [
        "## Defining the function spaces and trial and test functions"
      ],
      "metadata": {
        "id": "sG4EqV9zwh6p"
      }
    },
    {
      "cell_type": "code",
      "source": [
        "V = fem.functionspace(domain, (\"CR\", 1, (domain.geometry.dim,)))\n",
        "un = fem.Function(V, name=\"displacement\")\n",
        "u = fem.Function(V)\n",
        "utrial = ufl.TrialFunction(V)\n",
        "delu = ufl.TestFunction(V)\n",
        "\n",
        "el_q = basix.ufl.quadrature_element(domain.topology.cell_name(),\n",
        "                                    value_shape=(domain.geometry.dim,domain.geometry.dim)\n",
        "                                    ,scheme=\"default\", degree=2,symmetry=True)\n",
        "VQe = dolfinx.fem.functionspace(domain, el_q)\n",
        "Cvtrial = fem.Function(VQe)\n",
        "Cvn = fem.Function(VQe, name='Cvn')\n",
        "Cv = fem.Function(VQe, name='Cv')\n",
        "\n",
        "\n",
        "Vplot = fem.functionspace(domain, (\"CG\", 1, (domain.geometry.dim,)))\n",
        "VQePlot = fem.functionspace(domain, (\"Discontinuous Lagrange\", 0, (domain.geometry.dim,domain.geometry.dim)))\n",
        "uplot = fem.Function(Vplot, name='disp')\n",
        "Cvplot = fem.Function(VQePlot, name='Cv')\n",
        "uiter = fem.Function(V, name='uk_1')\n",
        "Cviter = fem.Function(VQe, name='Cvk1')\n",
        "error_cv = fem.Function(Cvtrial.function_space)"
      ],
      "metadata": {
        "id": "hu3owZDAS2ZI"
      },
      "execution_count": null,
      "outputs": []
    },
    {
      "cell_type": "markdown",
      "source": [
        "## Setting the Dirichlet part of the boundary conditions"
      ],
      "metadata": {
        "id": "DOo2mC4Hwk-o"
      }
    },
    {
      "cell_type": "code",
      "source": [
        "def left(x):\n",
        "    return np.isclose(x[0], 0)\n",
        "\n",
        "def front(x):\n",
        "    return np.isclose(x[0], W)\n",
        "\n",
        "def top(x):\n",
        "    return np.isclose(x[1], L)\n",
        "\n",
        "def bottom(x):\n",
        "    return np.isclose(x[1], 0)\n",
        "\n",
        "\n",
        "fdim = domain.topology.dim -1\n",
        "left_facets = mesh.locate_entities_boundary(domain, fdim, left)\n",
        "front_facets = mesh.locate_entities_boundary(domain, fdim, front)\n",
        "top_facets = mesh.locate_entities_boundary(domain, fdim, top)\n",
        "bottom_facets = mesh.locate_entities(domain, fdim, bottom)\n",
        "\n",
        "strtch = ScalarType(0.)\n",
        "\n",
        "dofs_bottom = fem.locate_dofs_topological(V.sub(1), fdim, bottom_facets)\n",
        "\n",
        "dofs_top = fem.locate_dofs_topological(V.sub(1), fdim, top_facets)\n",
        "dofs_top2 = fem.locate_dofs_topological(V.sub(0), fdim, top_facets)\n",
        "dofs_top3 = fem.locate_dofs_topological(V.sub(2), fdim, top_facets)\n",
        "\n",
        "\n",
        "bct = fem.dirichletbc(strtch, dofs_top, V.sub(1))\n",
        "bcr = fem.dirichletbc(ScalarType(0), dofs_top2, V.sub(0))\n",
        "bcr2 = fem.dirichletbc(ScalarType(0), dofs_top3, V.sub(2))\n",
        "bcb = fem.dirichletbc(ScalarType(0), dofs_bottom, V.sub(1))\n",
        "\n",
        "bcs = [bct, bcr, bcr2, bcb]"
      ],
      "metadata": {
        "id": "oWn9yeLmTJSW"
      },
      "execution_count": null,
      "outputs": []
    },
    {
      "cell_type": "markdown",
      "source": [
        "## Marking the facets"
      ],
      "metadata": {
        "id": "W8mMqWnJwpiB"
      }
    },
    {
      "cell_type": "code",
      "source": [
        "marked_facets = np.hstack([bottom_facets, top_facets, left_facets])\n",
        "marked_values = np.hstack([np.full_like(bottom_facets, 1),\n",
        "                           np.full_like(top_facets, 2),\n",
        "                           np.full_like(left_facets, 3)])\n",
        "sorted_facets = np.argsort(marked_facets)\n",
        "facet_tag = mesh.meshtags(domain, domain.topology.dim -1,\n",
        "                          marked_facets[sorted_facets],\n",
        "                          marked_values[sorted_facets])\n",
        "\n",
        "\n",
        "metadata = {\"quadrature_degree\": 4}\n",
        "ds = ufl.Measure('ds', domain=domain,\n",
        "                 subdomain_data=facet_tag, metadata=metadata)\n",
        "dS = ufl.Measure('dS', domain=domain, metadata=metadata)\n",
        "dx = ufl.Measure(\"dx\", domain=domain, metadata=metadata)\n",
        "\n",
        "def norm_L2(comm, v):\n",
        "    \"\"\"Compute the L2(O)-norm of v\"\"\"\n",
        "    return np.sqrt(comm.allreduce(fem.assemble_scalar(fem.form(ufl.inner(v, v) * dx)), op=MPI.SUM))"
      ],
      "metadata": {
        "id": "2rzGNGrQT-7W"
      },
      "execution_count": null,
      "outputs": []
    },
    {
      "cell_type": "markdown",
      "source": [
        "## Defining stored energy function"
      ],
      "metadata": {
        "id": "sYoR6Qq3xE0H"
      }
    },
    {
      "cell_type": "code",
      "source": [
        "def freeEnergy(u, Cv):\n",
        "    \"\"\"[summary]\n",
        "        Given, `u` and `Cv` this function\n",
        "        calculates the sum of equilibrium and non-equilibrium\n",
        "        free energies\n",
        "    Args:\n",
        "        u ([dolfin.Function]): [FE displacement field]\n",
        "        Cv ([dolfin.Function]): [FE internal variable]\n",
        "\n",
        "    Returns:\n",
        "        [psiEq + psiNEq]: [Sum of energies of type `ufl.algebra.Sum`]\n",
        "    \"\"\"\n",
        "    F = (ufl.Identity(len(u)) + ufl.grad(u))\n",
        "    C = (F.T * F)\n",
        "    J = (ufl.det(F))\n",
        "    I1 = (ufl.tr(C))\n",
        "    Ce = (C*ufl.inv(Cv))\n",
        "    Ie1 = (ufl.tr(Ce))\n",
        "\n",
        "\n",
        "    psiEq = 3**(1-alph1)/(2.*alph1) * mu1 * (I1**alph1 - 3**alph1) + 3**(1-alph2) / \\\n",
        "        (2.*alph2) * mu2 * (I1**alph2 - 3**alph2) - \\\n",
        "        (mu1 + mu2) * ufl.ln(J) + mu_pr/2*(J-1)**2\n",
        "\n",
        "    psiNeq = 3**(1-a1)/(2.*a1) * m1 * (Ie1**a1 - 3**a1) + 3**(1-a2)/(2.*a2) * \\\n",
        "        m2 * (Ie1**a2 - 3**a2) - (m1 + m2) * \\\n",
        "        ufl.ln(J)\n",
        "\n",
        "    return psiEq + psiNeq\n"
      ],
      "metadata": {
        "id": "b8FN6RSVUEr8"
      },
      "execution_count": null,
      "outputs": []
    },
    {
      "cell_type": "markdown",
      "source": [
        "## Defining the evolution equation"
      ],
      "metadata": {
        "id": "8vQUPwSMxGL6"
      }
    },
    {
      "cell_type": "code",
      "source": [
        "def evolEqG(u, Cv):\n",
        "    \"\"\"[summary]\n",
        "        Given `u` and `Cv` this function calculates the\n",
        "        RHS of the evolution equation G(C, Cv) as described\n",
        "        in the paper referenced above\n",
        "    Args:\n",
        "        u ([dolfin.Function]): [FE displacement field]\n",
        "        Cv ([dolfin.Function]): [FE internal variable]\n",
        "\n",
        "    Returns:\n",
        "        [G(C(u), Cv)]: [RHS of the evolution equation]\n",
        "    \"\"\"\n",
        "    F = (ufl.Identity(len(u)) + ufl.grad(u))\n",
        "    C = (F.T * F)\n",
        "    I1 = (ufl.tr(C))\n",
        "    Iv1 = (ufl.tr(Cv))\n",
        "    Ce = (C*ufl.inv(Cv))\n",
        "    Ie1 = (ufl.tr(Ce))\n",
        "    Ie2 = 1/2.*((Ie1)**2 - ufl.tr(ufl.dot(Ce,Ce)))\n",
        "\n",
        "    # define etaK\n",
        "    A2 = m1*(Ie1/3)**(a1 - 1) + m2 * (Ie1/3)**(a2 - 1)\n",
        "\n",
        "\n",
        "    eta0f = eta0  + (N0 - eta0)*(ufl.tanh(Iv1**bta1 - 3**bta1 - K1) + np.tanh(K1))/(1 + np.tanh(K1))\n",
        "\n",
        "    etagen = (etaInf + (eta0f - etaInf)/(1 + (K2 *((Ie1**2/3. - Ie2)*A2**2))**bta2))\n",
        "\n",
        "\n",
        "    G = A2 / (etagen) * (C - Ie1/3. * Cv)\n",
        "    G_temp = G\n",
        "    G_temp = local_project(G_temp, VQe)\n",
        "    return G_temp\n"
      ],
      "metadata": {
        "id": "fPyWmGPyUhk2"
      },
      "execution_count": null,
      "outputs": []
    },
    {
      "cell_type": "markdown",
      "source": [
        "## Defining a function for Runge–Kutta method"
      ],
      "metadata": {
        "id": "WJ30VP_mxK2f"
      }
    },
    {
      "cell_type": "code",
      "source": [
        "def k_terms(dt, u, un, Cvn):\n",
        "    \"\"\"[summary]\n",
        "        Given u(tn), Cv(tn), u(t_k, r) and dt this function\n",
        "        calculates the terms k_i (i=1 to 6) as described in\n",
        "        the paper above\n",
        "    Args:\n",
        "        dt ([float]): [time increment]\n",
        "        u ([dolfin.Function]): [FE displacement field]\n",
        "        un ([dolfin.Function]): [FE displacement field at t=tn]\n",
        "        Cvn ([dolfin.Function]): [FE internal variable at t=tn]\n",
        "\n",
        "    Returns:\n",
        "        [k1 + ... + k6]: [ufl.algebra.Sum]\n",
        "    \"\"\"\n",
        "    un_quart = un + 0.25*(u-un)\n",
        "    un_half = un + 0.5*(u-un)\n",
        "    un_thr_quart = un + 0.75 * (u-un)\n",
        "\n",
        "    k1 = evolEqG(un, Cvn)\n",
        "    k1.x.scatter_forward()\n",
        "\n",
        "    k2 = evolEqG(un_half, Cvn + k1*dt/2)\n",
        "    k2.x.scatter_forward()\n",
        "\n",
        "    k3 = evolEqG(un_quart, Cvn + 1./16*dt*(3*k1+k2))\n",
        "    k3.x.scatter_forward()\n",
        "\n",
        "    k4 = evolEqG(un_half, Cvn + dt/2.*k3)\n",
        "    k4.x.scatter_forward()\n",
        "\n",
        "    k5 = evolEqG(un_thr_quart, Cvn + 3./16*dt*(-k2 + 2.*k3 + 3.*k4))\n",
        "    k5.x.scatter_forward()\n",
        "\n",
        "    k6 = evolEqG(u, Cvn + (k1 + 4.*k2 + 6.*k3 - 12.*k4 + 8.*k5) * dt/7.)\n",
        "    k6.x.scatter_forward()\n",
        "\n",
        "    kfinal = dt/90*(7*k1 + 32*k3 + 12*k4 + 32*k5 + 7*k6)\n",
        "    kfinal = local_project(kfinal, VQe)\n",
        "    kfinal.x.scatter_forward()\n",
        "\n",
        "    return kfinal\n"
      ],
      "metadata": {
        "id": "k16A3Kt0VR43"
      },
      "execution_count": null,
      "outputs": []
    },
    {
      "cell_type": "markdown",
      "source": [
        "## Defining a function to do an interpolation for any field"
      ],
      "metadata": {
        "id": "hniP454Fx2Bp"
      }
    },
    {
      "cell_type": "code",
      "source": [
        "def local_project(v, V):\n",
        "    \"\"\"[summary]\n",
        "        Helper function to do a interpolation\n",
        "    Args:\n",
        "        v ([dolfin.Funcion]): [function to be projected]\n",
        "        V ([dolfin.Function]): [target `dolfin.FunctionSpace` to be projected on]\n",
        "\n",
        "    Returns:\n",
        "        [dolfin.Function]: [target function after projection]\n",
        "    \"\"\"\n",
        "    expr = fem.Expression(v, V.element.interpolation_points(), comm)\n",
        "    u = fem.Function(V)\n",
        "    u.interpolate(expr)\n",
        "    u.x.scatter_forward()\n",
        "    return u"
      ],
      "metadata": {
        "id": "kDKvU1FlVTMp"
      },
      "execution_count": null,
      "outputs": []
    },
    {
      "cell_type": "markdown",
      "source": [
        "## Setting the initial conditions"
      ],
      "metadata": {
        "id": "P0m6vgYyx8y0"
      }
    },
    {
      "cell_type": "code",
      "source": [
        "def identity_np(x):\n",
        "    values = np.zeros((domain.geometry.dim*domain.geometry.dim,\n",
        "                      x.shape[1]), dtype=np.float64)\n",
        "    values[0,:] = 1\n",
        "    values[4,:] = 1\n",
        "    values[8,:] = 1\n",
        "    return values\n",
        "\n",
        "# initialize the displacements and the internal variable, we may need sth for parallel computation\n",
        "un.x.array[:] = 0.\n",
        "Cv.interpolate(identity_np)\n",
        "Cv.x.scatter_forward()\n",
        "Cvn.interpolate(identity_np)\n",
        "Cvn.x.scatter_forward()"
      ],
      "metadata": {
        "id": "cOps0SzMVhCB"
      },
      "execution_count": null,
      "outputs": []
    },
    {
      "cell_type": "markdown",
      "source": [
        "## Weak form of PDE for displacement field"
      ],
      "metadata": {
        "id": "qB8yBmx4yFH5"
      }
    },
    {
      "cell_type": "code",
      "source": [
        "qvals = (mu1+mu2+m1+m2)\n",
        "h = ufl.FacetArea(domain)\n",
        "h_avg = (h('+') + h('-')) / 2.0\n",
        "n=ufl.FacetNormal(domain)\n",
        "a_uv = ufl.derivative(freeEnergy(u, Cv), u, delu)*dx + qvals / h_avg * ufl.inner(ufl.jump(u), ufl.jump(delu)) * dS\n",
        "Jac = ufl.derivative(a_uv, u, utrial)"
      ],
      "metadata": {
        "id": "RlgHSnQUVrWe"
      },
      "execution_count": null,
      "outputs": []
    },
    {
      "cell_type": "markdown",
      "source": [
        "## Defining a class for solving nonlinear PDEs"
      ],
      "metadata": {
        "id": "ADiCRvglyixR"
      }
    },
    {
      "cell_type": "code",
      "source": [
        "class NonlinearPDE_SNESProblem:\n",
        "    def __init__(self, F, u, bc, J):\n",
        "        #V = u.function_space\n",
        "        #du = ufl.TrialFunction(V)\n",
        "        self.L = fem.form(F)\n",
        "        self.a = fem.form(J)\n",
        "        self.bc = bc\n",
        "        self._F, self._J = None, None\n",
        "        self.u = u\n",
        "\n",
        "    def F(self, snes, x, F):\n",
        "        \"\"\"Assemble residual vector.\"\"\"\n",
        "        x.ghostUpdate(addv=PETSc.InsertMode.INSERT, mode=PETSc.ScatterMode.FORWARD)\n",
        "        #with x.localForm() as _x:\n",
        "            #self.u.x.array[:] = _x.array_r\n",
        "        x.copy(self.u.x.petsc_vec)\n",
        "        self.u.x.petsc_vec.ghostUpdate(addv=PETSc.InsertMode.INSERT, mode=PETSc.ScatterMode.FORWARD)\n",
        "\n",
        "        with F.localForm() as f_local:\n",
        "            f_local.set(0.0)\n",
        "        fem.petsc.assemble_vector(F, self.L)\n",
        "        fem.petsc.apply_lifting(F, [self.a], bcs=[self.bc], x0=[x], alpha=-1.0)\n",
        "        F.ghostUpdate(addv=PETSc.InsertMode.ADD, mode=PETSc.ScatterMode.REVERSE)\n",
        "        fem.petsc.set_bc(F, self.bc, x, -1.0)\n",
        "\n",
        "    def J(self, snes, x, J, P):\n",
        "        \"\"\"Assemble Jacobian matrix.\"\"\"\n",
        "        J.zeroEntries()\n",
        "        fem.petsc.assemble_matrix(J, self.a, bcs=self.bc)\n",
        "        J.assemble()"
      ],
      "metadata": {
        "id": "9NEFEinlV_pZ"
      },
      "execution_count": null,
      "outputs": []
    },
    {
      "cell_type": "markdown",
      "source": [
        "## Creating SNES solver and its customizations"
      ],
      "metadata": {
        "id": "c2eICb_bynwm"
      }
    },
    {
      "cell_type": "code",
      "source": [
        "# Create nonlinear problem\n",
        "problem = NonlinearPDE_SNESProblem(a_uv, u, bcs, Jac)\n",
        "\n",
        "b = la.create_petsc_vector(V.dofmap.index_map, V.dofmap.index_map_bs)\n",
        "J = fem.petsc.create_matrix(problem.a)\n",
        "\n",
        "\n",
        "# Create Newton solver and solve\n",
        "solver = PETSc.SNES().create()\n",
        "opts = PETSc.Options()\n",
        "opts['snes_linesearch_type'] = 'basic'\n",
        "opts['snes_monitor'] = None\n",
        "opts['snes_linesearch_monitor'] = None\n",
        "solver.setFromOptions()\n",
        "\n",
        "solver.setFunction(problem.F, b)\n",
        "solver.setJacobian(problem.J, J)\n",
        "\n",
        "\n",
        "solver.setTolerances(rtol=1.0e-9, max_it=6)\n",
        "solver.getKSP().setType(\"preonly\")\n",
        "solver.getKSP().setTolerances(rtol=1.0e-9)\n",
        "solver.getKSP().getPC().setType(\"lu\")\n",
        "solver.getKSP().getPC().setFactorSolverType(\"mumps\")"
      ],
      "metadata": {
        "id": "1SmGHSzUWEgT"
      },
      "execution_count": null,
      "outputs": []
    },
    {
      "cell_type": "markdown",
      "source": [
        "## Setting the time step parameters"
      ],
      "metadata": {
        "id": "1R6reTiyyto0"
      }
    },
    {
      "cell_type": "code",
      "source": [
        "Lambda_max = 1.5\n",
        "Lambda_dot = 10**(0)\n",
        "ldot = Lambda_dot * L\n",
        "n_interval = 80\n",
        "timeVals = np.linspace(0, (Lambda_max -1)*L / ldot, n_interval)\n",
        "dt = timeVals[1] - timeVals[0]\n",
        "stretchVals = np.hstack(ldot*timeVals[:len(timeVals)])\n",
        "dh = (stretchVals[1] - stretchVals[0])\n",
        "\n",
        "\n",
        "wfil = io.XDMFFile(domain.comm, \"paraview/disp_Visco.xdmf\", \"w\")\n",
        "wfil.write_mesh(domain)\n",
        "\n",
        "if rank == 0:\n",
        "    rfile =  open(f'Visco_test_results.txt', 'a')\n",
        "    rfile.write(\"time      displacement      stretch      force\\n\")"
      ],
      "metadata": {
        "id": "gD3WXf4wWOXX"
      },
      "execution_count": null,
      "outputs": []
    },
    {
      "cell_type": "markdown",
      "source": [
        "## Solving the problem over several time steps via a staggered scheme"
      ],
      "metadata": {
        "id": "XNw9ur5sy0vh"
      }
    },
    {
      "cell_type": "code",
      "source": [
        "for i, tk in enumerate(timeVals):\n",
        "    bct.g.value[...] = ScalarType(stretchVals[i])\n",
        "    if domain.comm.rank == 0:\n",
        "        print('u_3: {}'.format(float(bct.g.value)))\n",
        "\n",
        "\n",
        "    solver.solve(None, u.x.petsc_vec)\n",
        "    u.x.scatter_forward()\n",
        "\n",
        "    Av = Cvn + k_terms(dt, u, un, Cvn)\n",
        "    Cviter = local_project(Av/(ufl.det(Av))**(1/3), VQe)\n",
        "\n",
        "\n",
        "    Cviter.x.scatter_forward()\n",
        "    error_cv.x.array[:] = Cvtrial.x.array - Cviter.x.array\n",
        "\n",
        "    norm_delCv = norm_L2(comm, error_cv)\n",
        "    if domain.comm.rank == 0:\n",
        "        print(norm_delCv)\n",
        "    iterCount = 0\n",
        "\n",
        "\n",
        "    while norm_delCv > 1.e-5 and iterCount <= 10:\n",
        "        u.x.scatter_forward()\n",
        "        if domain.comm.rank == 0:\n",
        "            print('Staggered scheme started')\n",
        "        Cvtrial.x.array[:] = Cviter.x.array\n",
        "        Cv.x.array[:] = Cviter.x.array\n",
        "        solver.solve(None, u.x.petsc_vec)\n",
        "        u.x.scatter_forward()\n",
        "\n",
        "        uiter.x.array[:] = u.x.array\n",
        "        Av = Cvn + k_terms(dt, u, un, Cvn)\n",
        "        Cviter = local_project(Av/(ufl.det(Av))**(1/3), VQe)\n",
        "        Cviter.x.scatter_forward()\n",
        "        iterCount += 1\n",
        "        error_cv.x.array[:] = Cvtrial.x.array - Cviter.x.array\n",
        "\n",
        "        norm_delCv = norm_L2(comm, error_cv)\n",
        "        if domain.comm.rank == 0:\n",
        "            print(\"Staggered Iteration: {}, Norm = {}\".format(iterCount, norm_delCv))\n",
        "\n",
        "\n",
        "    un.x.array[:] = u.x.array\n",
        "    Cvn.x.array[:] = Cviter.x.array\n",
        "\n",
        "\n",
        "    # post-processing\n",
        "    be = fem.petsc.assemble_vector(fem.form(a_uv)).getArray()\n",
        "    fint=be.copy()\n",
        "    Fx=domain.comm.allreduce(np.sum(fint[dofs_top]), op=MPI.SUM)\n",
        "    uplot.x.array[:] = (local_project(un, Vplot)).x.array\n",
        "    wfil.write_function(uplot, tk)\n",
        "\n",
        "\n",
        "    if rank == 0:\n",
        "        rfile = open(f'Visco_test_results.txt', 'a')\n",
        "        rfile.write(\"%s %s %s %s\\n\" % (str(tk),\n",
        "                                                str(stretchVals[i]),\n",
        "                                                str(stretchVals[i]/L+1),\n",
        "                                                str(Fx)))\n",
        "\n",
        "\n",
        "\n",
        "wfil.close()\n",
        "rfile.close()"
      ],
      "metadata": {
        "id": "MY-Q2oE-WkEi"
      },
      "execution_count": null,
      "outputs": []
    },
    {
      "cell_type": "markdown",
      "source": [
        "## Results"
      ],
      "metadata": {
        "id": "SMYaxRUOV7Ne"
      }
    },
    {
      "cell_type": "markdown",
      "source": [
        "Snapshots of the specimen at the beginning and end of the loading\n",
        "\n",
        "![mainpic1.jpg](data:image/jpeg;base64,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)"
      ],
      "metadata": {
        "id": "tWVgcKjdWJUm"
      }
    }
  ]
}